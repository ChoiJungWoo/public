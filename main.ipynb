{
 "cells": [
  {
   "cell_type": "code",
   "execution_count": 1,
   "id": "behind-tobago",
   "metadata": {},
   "outputs": [],
   "source": [
    "from bnp import bnp\n",
    "import pandas as pd"
   ]
  },
  {
   "cell_type": "markdown",
   "id": "correct-commercial",
   "metadata": {},
   "source": [
    "# make bnp()"
   ]
  },
  {
   "cell_type": "code",
   "execution_count": 2,
   "id": "empty-duncan",
   "metadata": {},
   "outputs": [],
   "source": [
    "test = bnp()"
   ]
  },
  {
   "cell_type": "markdown",
   "id": "purple-private",
   "metadata": {},
   "source": [
    "# import csv or add row"
   ]
  },
  {
   "cell_type": "code",
   "execution_count": 3,
   "id": "wicked-object",
   "metadata": {},
   "outputs": [
    {
     "data": {
      "text/html": [
       "<div>\n",
       "<style scoped>\n",
       "    .dataframe tbody tr th:only-of-type {\n",
       "        vertical-align: middle;\n",
       "    }\n",
       "\n",
       "    .dataframe tbody tr th {\n",
       "        vertical-align: top;\n",
       "    }\n",
       "\n",
       "    .dataframe thead th {\n",
       "        text-align: right;\n",
       "    }\n",
       "</style>\n",
       "<table border=\"1\" class=\"dataframe\">\n",
       "  <thead>\n",
       "    <tr style=\"text-align: right;\">\n",
       "      <th></th>\n",
       "      <th>티커</th>\n",
       "      <th>구매일</th>\n",
       "      <th>구매가</th>\n",
       "      <th>구매개수</th>\n",
       "      <th>화폐</th>\n",
       "    </tr>\n",
       "  </thead>\n",
       "  <tbody>\n",
       "    <tr>\n",
       "      <th>0</th>\n",
       "      <td>133690</td>\n",
       "      <td>20210302</td>\n",
       "      <td>65930.0</td>\n",
       "      <td>1</td>\n",
       "      <td>원</td>\n",
       "    </tr>\n",
       "    <tr>\n",
       "      <th>1</th>\n",
       "      <td>133690</td>\n",
       "      <td>20210303</td>\n",
       "      <td>66600.0</td>\n",
       "      <td>1</td>\n",
       "      <td>원</td>\n",
       "    </tr>\n",
       "  </tbody>\n",
       "</table>\n",
       "</div>"
      ],
      "text/plain": [
       "       티커       구매일      구매가  구매개수 화폐\n",
       "0  133690  20210302  65930.0     1  원\n",
       "1  133690  20210303  66600.0     1  원"
      ]
     },
     "execution_count": 3,
     "metadata": {},
     "output_type": "execute_result"
    }
   ],
   "source": [
    "test.data = pd.read_csv('bnp.csv')\n",
    "test.data"
   ]
  },
  {
   "cell_type": "code",
   "execution_count": 4,
   "id": "cognitive-raising",
   "metadata": {},
   "outputs": [
    {
     "data": {
      "text/html": [
       "<div>\n",
       "<style scoped>\n",
       "    .dataframe tbody tr th:only-of-type {\n",
       "        vertical-align: middle;\n",
       "    }\n",
       "\n",
       "    .dataframe tbody tr th {\n",
       "        vertical-align: top;\n",
       "    }\n",
       "\n",
       "    .dataframe thead th {\n",
       "        text-align: right;\n",
       "    }\n",
       "</style>\n",
       "<table border=\"1\" class=\"dataframe\">\n",
       "  <thead>\n",
       "    <tr style=\"text-align: right;\">\n",
       "      <th></th>\n",
       "      <th>티커</th>\n",
       "      <th>구매일</th>\n",
       "      <th>구매가</th>\n",
       "      <th>구매개수</th>\n",
       "      <th>화폐</th>\n",
       "    </tr>\n",
       "  </thead>\n",
       "  <tbody>\n",
       "    <tr>\n",
       "      <th>0</th>\n",
       "      <td>133690</td>\n",
       "      <td>20210302</td>\n",
       "      <td>65930.0</td>\n",
       "      <td>1</td>\n",
       "      <td>원</td>\n",
       "    </tr>\n",
       "    <tr>\n",
       "      <th>1</th>\n",
       "      <td>133690</td>\n",
       "      <td>20210303</td>\n",
       "      <td>66600.0</td>\n",
       "      <td>1</td>\n",
       "      <td>원</td>\n",
       "    </tr>\n",
       "    <tr>\n",
       "      <th>2</th>\n",
       "      <td>qqq</td>\n",
       "      <td>20201106</td>\n",
       "      <td>294.3</td>\n",
       "      <td>1</td>\n",
       "      <td>달러</td>\n",
       "    </tr>\n",
       "  </tbody>\n",
       "</table>\n",
       "</div>"
      ],
      "text/plain": [
       "       티커       구매일      구매가  구매개수  화폐\n",
       "0  133690  20210302  65930.0     1   원\n",
       "1  133690  20210303  66600.0     1   원\n",
       "2     qqq  20201106    294.3     1  달러"
      ]
     },
     "execution_count": 4,
     "metadata": {},
     "output_type": "execute_result"
    }
   ],
   "source": [
    "test.add_row(['qqq','20201106',294.3,1,'달러'])\n",
    "test.data"
   ]
  },
  {
   "cell_type": "markdown",
   "id": "correct-clarity",
   "metadata": {},
   "source": [
    "# make result dataframe\n",
    "### (slow)"
   ]
  },
  {
   "cell_type": "code",
   "execution_count": 5,
   "id": "amber-destruction",
   "metadata": {},
   "outputs": [
    {
     "data": {
      "text/html": [
       "<div>\n",
       "<style scoped>\n",
       "    .dataframe tbody tr th:only-of-type {\n",
       "        vertical-align: middle;\n",
       "    }\n",
       "\n",
       "    .dataframe tbody tr th {\n",
       "        vertical-align: top;\n",
       "    }\n",
       "\n",
       "    .dataframe thead th {\n",
       "        text-align: right;\n",
       "    }\n",
       "</style>\n",
       "<table border=\"1\" class=\"dataframe\">\n",
       "  <thead>\n",
       "    <tr style=\"text-align: right;\">\n",
       "      <th></th>\n",
       "      <th>Close</th>\n",
       "      <th>High</th>\n",
       "      <th>Low</th>\n",
       "      <th>Open</th>\n",
       "      <th>add_value</th>\n",
       "      <th>value</th>\n",
       "      <th>value_change</th>\n",
       "      <th>mdd</th>\n",
       "    </tr>\n",
       "  </thead>\n",
       "  <tbody>\n",
       "    <tr>\n",
       "      <th>2020-11-06</th>\n",
       "      <td>330380.0</td>\n",
       "      <td>332920.0</td>\n",
       "      <td>324160.0</td>\n",
       "      <td>329800.0</td>\n",
       "      <td>1.0</td>\n",
       "      <td>330028.0200</td>\n",
       "      <td>0.000000</td>\n",
       "      <td>0.00</td>\n",
       "    </tr>\n",
       "    <tr>\n",
       "      <th>2020-11-09</th>\n",
       "      <td>322950.0</td>\n",
       "      <td>335580.0</td>\n",
       "      <td>320000.0</td>\n",
       "      <td>333930.0</td>\n",
       "      <td>0.0</td>\n",
       "      <td>322949.5254</td>\n",
       "      <td>-0.021448</td>\n",
       "      <td>-0.02</td>\n",
       "    </tr>\n",
       "    <tr>\n",
       "      <th>2020-11-10</th>\n",
       "      <td>316600.0</td>\n",
       "      <td>321100.0</td>\n",
       "      <td>312540.0</td>\n",
       "      <td>319420.0</td>\n",
       "      <td>0.0</td>\n",
       "      <td>316599.9794</td>\n",
       "      <td>-0.019661</td>\n",
       "      <td>-0.04</td>\n",
       "    </tr>\n",
       "    <tr>\n",
       "      <th>2020-11-11</th>\n",
       "      <td>322330.0</td>\n",
       "      <td>324540.0</td>\n",
       "      <td>316680.0</td>\n",
       "      <td>319420.0</td>\n",
       "      <td>0.0</td>\n",
       "      <td>322326.1264</td>\n",
       "      <td>0.018086</td>\n",
       "      <td>-0.02</td>\n",
       "    </tr>\n",
       "    <tr>\n",
       "      <th>2020-11-12</th>\n",
       "      <td>321530.0</td>\n",
       "      <td>326040.0</td>\n",
       "      <td>318990.0</td>\n",
       "      <td>323460.0</td>\n",
       "      <td>0.0</td>\n",
       "      <td>321525.6240</td>\n",
       "      <td>-0.002484</td>\n",
       "      <td>-0.03</td>\n",
       "    </tr>\n",
       "    <tr>\n",
       "      <th>...</th>\n",
       "      <td>...</td>\n",
       "      <td>...</td>\n",
       "      <td>...</td>\n",
       "      <td>...</td>\n",
       "      <td>...</td>\n",
       "      <td>...</td>\n",
       "      <td>...</td>\n",
       "      <td>...</td>\n",
       "    </tr>\n",
       "    <tr>\n",
       "      <th>2021-03-08</th>\n",
       "      <td>469600.0</td>\n",
       "      <td>484710.0</td>\n",
       "      <td>464810.0</td>\n",
       "      <td>473380.0</td>\n",
       "      <td>0.0</td>\n",
       "      <td>469600.5502</td>\n",
       "      <td>-0.009033</td>\n",
       "      <td>-0.02</td>\n",
       "    </tr>\n",
       "    <tr>\n",
       "      <th>2021-03-09</th>\n",
       "      <td>480560.0</td>\n",
       "      <td>486550.0</td>\n",
       "      <td>474160.0</td>\n",
       "      <td>477700.0</td>\n",
       "      <td>0.0</td>\n",
       "      <td>480560.8907</td>\n",
       "      <td>0.023340</td>\n",
       "      <td>-0.00</td>\n",
       "    </tr>\n",
       "    <tr>\n",
       "      <th>2021-03-10</th>\n",
       "      <td>483660.0</td>\n",
       "      <td>493310.0</td>\n",
       "      <td>482220.0</td>\n",
       "      <td>489180.0</td>\n",
       "      <td>0.0</td>\n",
       "      <td>483661.7008</td>\n",
       "      <td>0.006452</td>\n",
       "      <td>0.00</td>\n",
       "    </tr>\n",
       "    <tr>\n",
       "      <th>2021-03-11</th>\n",
       "      <td>490330.0</td>\n",
       "      <td>495920.0</td>\n",
       "      <td>485530.0</td>\n",
       "      <td>489540.0</td>\n",
       "      <td>0.0</td>\n",
       "      <td>490326.5140</td>\n",
       "      <td>0.013780</td>\n",
       "      <td>0.00</td>\n",
       "    </tr>\n",
       "    <tr>\n",
       "      <th>2021-03-12</th>\n",
       "      <td>490420.0</td>\n",
       "      <td>492340.0</td>\n",
       "      <td>482980.0</td>\n",
       "      <td>487400.0</td>\n",
       "      <td>0.0</td>\n",
       "      <td>490422.5600</td>\n",
       "      <td>0.000196</td>\n",
       "      <td>0.00</td>\n",
       "    </tr>\n",
       "  </tbody>\n",
       "</table>\n",
       "<p>91 rows × 8 columns</p>\n",
       "</div>"
      ],
      "text/plain": [
       "               Close      High       Low      Open  add_value        value  \\\n",
       "2020-11-06  330380.0  332920.0  324160.0  329800.0        1.0  330028.0200   \n",
       "2020-11-09  322950.0  335580.0  320000.0  333930.0        0.0  322949.5254   \n",
       "2020-11-10  316600.0  321100.0  312540.0  319420.0        0.0  316599.9794   \n",
       "2020-11-11  322330.0  324540.0  316680.0  319420.0        0.0  322326.1264   \n",
       "2020-11-12  321530.0  326040.0  318990.0  323460.0        0.0  321525.6240   \n",
       "...              ...       ...       ...       ...        ...          ...   \n",
       "2021-03-08  469600.0  484710.0  464810.0  473380.0        0.0  469600.5502   \n",
       "2021-03-09  480560.0  486550.0  474160.0  477700.0        0.0  480560.8907   \n",
       "2021-03-10  483660.0  493310.0  482220.0  489180.0        0.0  483661.7008   \n",
       "2021-03-11  490330.0  495920.0  485530.0  489540.0        0.0  490326.5140   \n",
       "2021-03-12  490420.0  492340.0  482980.0  487400.0        0.0  490422.5600   \n",
       "\n",
       "            value_change   mdd  \n",
       "2020-11-06      0.000000  0.00  \n",
       "2020-11-09     -0.021448 -0.02  \n",
       "2020-11-10     -0.019661 -0.04  \n",
       "2020-11-11      0.018086 -0.02  \n",
       "2020-11-12     -0.002484 -0.03  \n",
       "...                  ...   ...  \n",
       "2021-03-08     -0.009033 -0.02  \n",
       "2021-03-09      0.023340 -0.00  \n",
       "2021-03-10      0.006452  0.00  \n",
       "2021-03-11      0.013780  0.00  \n",
       "2021-03-12      0.000196  0.00  \n",
       "\n",
       "[91 rows x 8 columns]"
      ]
     },
     "execution_count": 5,
     "metadata": {},
     "output_type": "execute_result"
    }
   ],
   "source": [
    "test.make_result()\n",
    "test.result"
   ]
  },
  {
   "cell_type": "markdown",
   "id": "color-kruger",
   "metadata": {},
   "source": [
    "# make graph"
   ]
  },
  {
   "cell_type": "code",
   "execution_count": null,
   "id": "wicked-quality",
   "metadata": {},
   "outputs": [],
   "source": [
    "test.make_figure()\n",
    "test.fig.update_layout(width=1000, height=1000)\n",
    "test.fig.show()"
   ]
  },
  {
   "cell_type": "markdown",
   "id": "arctic-architect",
   "metadata": {},
   "source": [
    "# make graph as percent"
   ]
  },
  {
   "cell_type": "code",
   "execution_count": null,
   "id": "corrected-person",
   "metadata": {},
   "outputs": [],
   "source": [
    "test.make_figure(pm='%%%')\n",
    "test.fig.update_layout(width=1000, height=1000)\n",
    "test.fig.show()"
   ]
  },
  {
   "cell_type": "code",
   "execution_count": null,
   "id": "alleged-parent",
   "metadata": {},
   "outputs": [],
   "source": [
    "test.make_figure(pm=',,%')\n",
    "test.fig.update_layout(width=1000, height=1000)\n",
    "test.fig.show()"
   ]
  }
 ],
 "metadata": {
  "kernelspec": {
   "display_name": "Python 3",
   "language": "python",
   "name": "python3"
  },
  "language_info": {
   "codemirror_mode": {
    "name": "ipython",
    "version": 3
   },
   "file_extension": ".py",
   "mimetype": "text/x-python",
   "name": "python",
   "nbconvert_exporter": "python",
   "pygments_lexer": "ipython3",
   "version": "3.9.2"
  }
 },
 "nbformat": 4,
 "nbformat_minor": 5
}
